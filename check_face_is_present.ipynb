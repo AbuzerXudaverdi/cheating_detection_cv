{
 "cells": [
  {
   "cell_type": "code",
   "execution_count": null,
   "id": "992c01b5",
   "metadata": {},
   "outputs": [],
   "source": [
    "#this is the main code file for detecting faces (more than one) and not being able to detect faces"
   ]
  },
  {
   "cell_type": "code",
   "execution_count": 2,
   "id": "53154b12",
   "metadata": {},
   "outputs": [],
   "source": [
    "import cv2\n",
    "import mediapipe as mp\n",
    "import datetime\n",
    "import numpy as np\n",
    "import time\n",
    "import os\n",
    "import glob\n",
    "import shutil"
   ]
  },
  {
   "cell_type": "code",
   "execution_count": 3,
   "id": "e51252e9",
   "metadata": {},
   "outputs": [],
   "source": [
    "#  NOSE = 1\n",
    "#     FOREHEAD = 10\n",
    "#     LEFT_EYE = 33\n",
    "#     MOUTH_LEFT = 61\n",
    "#     CHIN = 199\n",
    "#     RIGHT_EYE = 263\n",
    "#     MOUTH_RIGHT = 291\n",
    "mp_face_detection = mp.solutions.face_detection\n",
    "face_detection = mp_face_detection.FaceDetection(min_detection_confidence=0.5)\n",
    "\n",
    "mp_face_mesh = mp.solutions.face_mesh\n",
    "face_mesh = mp_face_mesh.FaceMesh(static_image_mode=True,max_num_faces=10,min_detection_confidence=0.5, min_tracking_confidence=0.5)\n",
    "\n",
    "path = \"C:\\\\Users\\\\99455\\\\Desktop\\\\DataScience\\\\Proctoring Task\\\\Frames2\\\\*.*\""
   ]
  },
  {
   "cell_type": "code",
   "execution_count": 4,
   "id": "0bda25c3",
   "metadata": {},
   "outputs": [],
   "source": [
    "for file in glob.glob(path):\n",
    "    image = cv2.imread(file)\n",
    "    #image = cv2.cvtColor(cv2.flip(image,1), cv2.COLOR_BGR2RGB)\n",
    "    image.flags.writeable = False\n",
    "    \n",
    "    rdet = face_detection.process(image)\n",
    "    results = face_mesh.process(image)\n",
    "    image.flags.writeable = True\n",
    "    #image = cv2.cvtColor(image,cv2.COLOR_RGB2BGR)\n",
    "    old_path =  file\n",
    "    filename = file.split('\\\\')[-1]\n",
    "    \n",
    "    if results.multi_face_landmarks and len(results.multi_face_landmarks) > 1:\n",
    "        x = \"face detected\"\n",
    "        new_path = \"C:\\\\Users\\\\99455\\\\Desktop\\\\DataScience\\\\Proctoring Task\\\\MoreThanOneFace2\\\\\"+filename\n",
    "        shutil.move(old_path, new_path)\n",
    "    elif not rdet.detections or not results.multi_face_landmarks:\n",
    "        x = \"face not detected\"\n",
    "        new_path = \"C:\\\\Users\\\\99455\\\\Desktop\\\\DataScience\\\\Proctoring Task\\\\FaceNotDetected2\\\\\"+filename\n",
    "        shutil.move(old_path, new_path)\n",
    "    if filename == \"frame3340.jpg\" and results.multi_face_landmarks:\n",
    "        print(\"photo\")\n",
    "        #cv2.waitKey(100000)\n",
    "        \n",
    "cv2.destroyAllWindows()"
   ]
  },
  {
   "cell_type": "code",
   "execution_count": null,
   "id": "3c957469",
   "metadata": {},
   "outputs": [],
   "source": [
    "#             for detection in rdet.detections:\n",
    "#                 bboxC = detection.location_data.relative_bounding_box\n",
    "#                 ih, iw, _ = image.shape\n",
    "#                 bbox = int(bboxC.xmin * iw), int(bboxC.ymin * ih), int(bboxC.width * iw), int(bboxC.height * ih)\n",
    "#                 if bbox[2] * bbox[3] < 30000:\n",
    "                    \n",
    "#                     num_faces +=1\n",
    "#                     print(num_faces)\n",
    "#                     print(bbox[2] * bbox[3])\n",
    "#                     print('Nose tip:')\n",
    "#                     print(mp_face_detection.get_key_point(detection, mp_face_detection.FaceKeyPoint.NOSE_TIP))\n",
    "#                     cv2.rectangle(image, bbox, (255, 0, 255), 2)\n",
    "            "
   ]
  },
  {
   "cell_type": "code",
   "execution_count": null,
   "id": "0af47946",
   "metadata": {},
   "outputs": [],
   "source": [
    "# cv2.putText(image,x, (20,450), cv2.FONT_HERSHEY_SIMPLEX, 1.5, (0,255,0),2)  \n",
    "# cv2.putText(image,filename,(20,50), cv2.FONT_HERSHEY_SIMPLEX, 1.5, (0,255,0),2)\n",
    "# cv2.imshow(\"Face Detection\", image)  \n",
    "# cv2.waitKey(10)\n",
    "# if cv2.waitKey(1) & 0xFF == 27:\n",
    "#     break"
   ]
  }
 ],
 "metadata": {
  "kernelspec": {
   "display_name": "Python 3 (ipykernel)",
   "language": "python",
   "name": "python3"
  },
  "language_info": {
   "codemirror_mode": {
    "name": "ipython",
    "version": 3
   },
   "file_extension": ".py",
   "mimetype": "text/x-python",
   "name": "python",
   "nbconvert_exporter": "python",
   "pygments_lexer": "ipython3",
   "version": "3.11.5"
  }
 },
 "nbformat": 4,
 "nbformat_minor": 5
}
