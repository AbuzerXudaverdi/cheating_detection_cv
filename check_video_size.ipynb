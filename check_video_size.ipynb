{
 "cells": [
  {
   "cell_type": "code",
   "execution_count": null,
   "id": "3005133a",
   "metadata": {},
   "outputs": [],
   "source": [
    "def video_size_threshold(video_path, duration = 35): # if video duration is less than predefined duration then all frames will processed, default is 35 minutes\n",
    "    process_all = False\n",
    "    video = cv2.VideoCapture(video_path) #get the video path\n",
    "    \n",
    "    frame_count = data.get(cv2.CAP_PROP_FRAME_COUNT)\n",
    "    fps = data.get(cv2.CAP_PROP_FPS)\n",
    "    \n",
    "    seconds = round(frames/fps)\n",
    "    video_duration = datetime.timedelta(seconds=seconds)\n",
    "    \n",
    "    if seconds < duration * 60:\n",
    "        process_all =  True\n",
    "    \n",
    "    return process_all"
   ]
  }
 ],
 "metadata": {
  "kernelspec": {
   "display_name": "Python 3 (ipykernel)",
   "language": "python",
   "name": "python3"
  },
  "language_info": {
   "codemirror_mode": {
    "name": "ipython",
    "version": 3
   },
   "file_extension": ".py",
   "mimetype": "text/x-python",
   "name": "python",
   "nbconvert_exporter": "python",
   "pygments_lexer": "ipython3",
   "version": "3.11.5"
  }
 },
 "nbformat": 4,
 "nbformat_minor": 5
}
