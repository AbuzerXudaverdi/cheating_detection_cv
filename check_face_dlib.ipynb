{
 "cells": [
  {
   "cell_type": "code",
   "execution_count": 3,
   "id": "78b88da2",
   "metadata": {},
   "outputs": [],
   "source": [
    "import cv2\n",
    "import dlib\n",
    "import shutil\n",
    "import glob\n",
    "import os"
   ]
  },
  {
   "cell_type": "code",
   "execution_count": 4,
   "id": "d3580c87",
   "metadata": {},
   "outputs": [],
   "source": [
    "# Load the pre-trained face detection model\n",
    "detector = dlib.get_frontal_face_detector()\n",
    "\n",
    "\n",
    "path = \"C:\\\\Users\\\\99455\\\\Desktop\\\\DataScience\\\\Proctoring Task\\\\Frames\\\\*.*\"\n",
    "xx= \"\"\n",
    "for file in glob.glob(path):\n",
    "    num_faces = 0\n",
    "    image = cv2.imread(file)\n",
    "    image = cv2.cvtColor(cv2.flip(image,1), cv2.COLOR_BGR2RGB)\n",
    "    image.flags.writeable = False\n",
    "    # Read the image/frame\n",
    "    image.flags.writeable = True\n",
    "    image = cv2.cvtColor(image,cv2.COLOR_RGB2BGR)\n",
    "    old_path =  file\n",
    "    filename = file.split('\\\\')[-1]\n",
    "    new_path = \"C:\\\\Users\\\\99455\\\\Desktop\\\\DataScience\\\\Proctoring Task\\\\MoreThanOneFace\\\\\"+filename\n",
    "    # Convert the image to grayscale\n",
    "    gray = cv2.cvtColor(image, cv2.COLOR_BGR2GRAY)\n",
    "\n",
    "    # Detect faces\n",
    "    faces = detector(gray)\n",
    "\n",
    "    # Draw rectangles around detected faces\n",
    "    if len(faces)>1:\n",
    "        for face in faces:\n",
    "            xx = \"face detected\"    \n",
    "            x, y, w, h = face.left(), face.top(), face.width(), face.height()\n",
    "            cv2.rectangle(image, (x, y), (x + w, y + h), (0, 255, 0), 2)\n",
    "        shutil.move(old_path, new_path)\n",
    "\n",
    "    # Display the result\n",
    "    cv2.putText(image,xx, (20,450), cv2.FONT_HERSHEY_SIMPLEX, 1.5, (0,255,0),2) \n",
    "    cv2.imshow('Face Detection', image)\n",
    "    #cv2.waitKey(0)\n",
    "    cv2.waitKey(10)\n",
    "    if cv2.waitKey(1) & 0xFF == 27:\n",
    "        break\n",
    "cv2.destroyAllWindows()"
   ]
  },
  {
   "cell_type": "code",
   "execution_count": null,
   "id": "a54c6591",
   "metadata": {},
   "outputs": [],
   "source": []
  }
 ],
 "metadata": {
  "kernelspec": {
   "display_name": "Python 3 (ipykernel)",
   "language": "python",
   "name": "python3"
  },
  "language_info": {
   "codemirror_mode": {
    "name": "ipython",
    "version": 3
   },
   "file_extension": ".py",
   "mimetype": "text/x-python",
   "name": "python",
   "nbconvert_exporter": "python",
   "pygments_lexer": "ipython3",
   "version": "3.11.5"
  }
 },
 "nbformat": 4,
 "nbformat_minor": 5
}
